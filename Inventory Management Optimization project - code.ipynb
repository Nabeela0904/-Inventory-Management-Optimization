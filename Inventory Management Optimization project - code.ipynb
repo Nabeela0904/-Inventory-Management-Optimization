{
 "cells": [
  {
   "cell_type": "code",
   "execution_count": 5,
   "id": "f403a5f9",
   "metadata": {},
   "outputs": [],
   "source": [
    "import sqlite3\n",
    "\n",
    "# Connect to SQLite database (or create it if it doesn't exist)\n",
    "conn = sqlite3.connect('inventory_management.db')\n",
    "cursor = conn.cursor()\n"
   ]
  },
  {
   "cell_type": "code",
   "execution_count": 6,
   "id": "4e12a7ee",
   "metadata": {},
   "outputs": [
    {
     "data": {
      "text/plain": [
       "<sqlite3.Cursor at 0x1962139c640>"
      ]
     },
     "execution_count": 6,
     "metadata": {},
     "output_type": "execute_result"
    }
   ],
   "source": [
    "# Create Products Table\n",
    "cursor.execute('''\n",
    "    CREATE TABLE IF NOT EXISTS products (\n",
    "        product_id INTEGER PRIMARY KEY AUTOINCREMENT,\n",
    "        product_name TEXT,\n",
    "        category TEXT,\n",
    "        current_stock INTEGER,\n",
    "        reorder_level INTEGER,\n",
    "        reorder_quantity INTEGER\n",
    "    )\n",
    "''')\n",
    "\n",
    "\n",
    "\n"
   ]
  },
  {
   "cell_type": "code",
   "execution_count": 7,
   "id": "7369f625",
   "metadata": {},
   "outputs": [],
   "source": [
    "# Insert initial product data\n",
    "products_data = [\n",
    "    ('Laptop', 'Electronics', 15, 10, 20),\n",
    "    ('Smartphone', 'Electronics', 30, 15, 40),\n",
    "    ('Headphones', 'Accessories', 100, 50, 100),\n",
    "    ('Chair', 'Furniture', 8, 5, 10),\n",
    "    ('Desk', 'Furniture', 5, 3, 5)\n",
    "]"
   ]
  },
  {
   "cell_type": "code",
   "execution_count": 8,
   "id": "9824b081",
   "metadata": {},
   "outputs": [
    {
     "name": "stdout",
     "output_type": "stream",
     "text": [
      "Products table created and populated with initial data.\n"
     ]
    }
   ],
   "source": [
    "cursor.executemany('INSERT INTO products (product_name, category, current_stock, reorder_level, reorder_quantity) VALUES (?, ?, ?, ?, ?)', products_data)\n",
    "\n",
    "# Commit the changes\n",
    "conn.commit()\n",
    "print(\"Products table created and populated with initial data.\")"
   ]
  },
  {
   "cell_type": "code",
   "execution_count": 9,
   "id": "730d7e8f",
   "metadata": {},
   "outputs": [],
   "source": [
    "# Function to display inventory status\n",
    "def show_inventory():\n",
    "    cursor.execute('SELECT * FROM products')\n",
    "    rows = cursor.fetchall()\n",
    "    print(\"Current Inventory:\")\n",
    "    for row in rows:\n",
    "        print(f\"Product ID: {row[0]}, Name: {row[1]}, Stock: {row[3]}, Reorder Level: {row[4]}\")"
   ]
  },
  {
   "cell_type": "code",
   "execution_count": 10,
   "id": "1ba24931",
   "metadata": {},
   "outputs": [],
   "source": [
    "# Function to process sales\n",
    "def process_sale(product_id, quantity_sold):\n",
    "    cursor.execute('SELECT current_stock FROM products WHERE product_id = ?', (product_id,))\n",
    "    current_stock = cursor.fetchone()[0]\n",
    "    \n",
    "    if current_stock >= quantity_sold:\n",
    "        new_stock = current_stock - quantity_sold\n",
    "        cursor.execute('UPDATE products SET current_stock = ? WHERE product_id = ?', (new_stock, product_id))\n",
    "        conn.commit()\n",
    "        print(f\"Sale processed! New stock for Product ID {product_id} is {new_stock}.\")\n",
    "    else:\n",
    "        print(f\"Insufficient stock for Product ID {product_id}. Only {current_stock} items available.\")"
   ]
  },
  {
   "cell_type": "code",
   "execution_count": 11,
   "id": "dd20770a",
   "metadata": {},
   "outputs": [],
   "source": [
    "# Function to generate low-stock alerts\n",
    "def check_low_stock():\n",
    "    cursor.execute('SELECT * FROM products WHERE current_stock <= reorder_level')\n",
    "    rows = cursor.fetchall()\n",
    "    \n",
    "    if rows:\n",
    "        print(\"\\nLow Stock Alert:\")\n",
    "        for row in rows:\n",
    "            print(f\"Product ID: {row[0]}, Name: {row[1]}, Current Stock: {row[3]}, Reorder Level: {row[4]}\")\n",
    "    else:\n",
    "        print(\"All products have sufficient stock.\")"
   ]
  },
  {
   "cell_type": "code",
   "execution_count": 12,
   "id": "50dd9651",
   "metadata": {},
   "outputs": [],
   "source": [
    "# Function to restock products\n",
    "def restock_product(product_id):\n",
    "    cursor.execute('SELECT current_stock, reorder_quantity FROM products WHERE product_id = ?', (product_id,))\n",
    "    result = cursor.fetchone()\n",
    "    current_stock, reorder_quantity = result\n",
    "    new_stock = current_stock + reorder_quantity\n",
    "    \n",
    "    cursor.execute('UPDATE products SET current_stock = ? WHERE product_id = ?', (new_stock, product_id))\n",
    "    conn.commit()\n",
    "    \n",
    "    print(f\"Product ID {product_id} restocked! New stock is {new_stock}.\")"
   ]
  },
  {
   "cell_type": "code",
   "execution_count": 13,
   "id": "67e8de11",
   "metadata": {},
   "outputs": [],
   "source": [
    "# Function to automatically restock low-stock items\n",
    "def auto_restock():\n",
    "    cursor.execute('SELECT product_id, current_stock, reorder_quantity FROM products WHERE current_stock <= reorder_level')\n",
    "    rows = cursor.fetchall()\n",
    "    \n",
    "    if rows:\n",
    "        print(\"\\nAuto Restocking:\")\n",
    "        for row in rows:\n",
    "            product_id, current_stock, reorder_quantity = row\n",
    "            new_stock = current_stock + reorder_quantity\n",
    "            cursor.execute('UPDATE products SET current_stock = ? WHERE product_id = ?', (new_stock, product_id))\n",
    "            print(f\"Product ID {product_id} restocked to {new_stock} items.\")\n",
    "        conn.commit()\n",
    "    else:\n",
    "        print(\"No products need restocking.\")"
   ]
  },
  {
   "cell_type": "code",
   "execution_count": 14,
   "id": "f3aee9ab",
   "metadata": {},
   "outputs": [],
   "source": [
    "# Function to add new products to inventory\n",
    "def add_product(product_name, category, current_stock, reorder_level, reorder_quantity):\n",
    "    cursor.execute('INSERT INTO products (product_name, category, current_stock, reorder_level, reorder_quantity) VALUES (?, ?, ?, ?, ?)',\n",
    "                   (product_name, category, current_stock, reorder_level, reorder_quantity))\n",
    "    conn.commit()\n",
    "    print(f\"Product '{product_name}' added to inventory.\")"
   ]
  },
  {
   "cell_type": "code",
   "execution_count": 15,
   "id": "7f13c88b",
   "metadata": {},
   "outputs": [
    {
     "name": "stdout",
     "output_type": "stream",
     "text": [
      "Current Inventory:\n",
      "Product ID: 1, Name: Laptop, Stock: 15, Reorder Level: 10\n",
      "Product ID: 2, Name: Smartphone, Stock: 30, Reorder Level: 15\n",
      "Product ID: 3, Name: Headphones, Stock: 100, Reorder Level: 50\n",
      "Product ID: 4, Name: Chair, Stock: 8, Reorder Level: 5\n",
      "Product ID: 5, Name: Desk, Stock: 5, Reorder Level: 3\n"
     ]
    }
   ],
   "source": [
    "# Display initial inventory\n",
    "show_inventory()\n"
   ]
  },
  {
   "cell_type": "code",
   "execution_count": 16,
   "id": "2b4a0fe5",
   "metadata": {},
   "outputs": [
    {
     "name": "stdout",
     "output_type": "stream",
     "text": [
      "Sale processed! New stock for Product ID 1 is 10.\n"
     ]
    }
   ],
   "source": [
    "# Simulate a sale\n",
    "process_sale(product_id=1, quantity_sold=5) "
   ]
  },
  {
   "cell_type": "code",
   "execution_count": 17,
   "id": "3f1cbdfd",
   "metadata": {},
   "outputs": [
    {
     "name": "stdout",
     "output_type": "stream",
     "text": [
      "\n",
      "Low Stock Alert:\n",
      "Product ID: 1, Name: Laptop, Current Stock: 10, Reorder Level: 10\n"
     ]
    }
   ],
   "source": [
    "# Check for low-stock alerts\n",
    "check_low_stock()"
   ]
  },
  {
   "cell_type": "code",
   "execution_count": 18,
   "id": "d02da5ba",
   "metadata": {},
   "outputs": [
    {
     "name": "stdout",
     "output_type": "stream",
     "text": [
      "Product ID 1 restocked! New stock is 30.\n"
     ]
    }
   ],
   "source": [
    "# Manually restock a product\n",
    "restock_product(product_id=1) "
   ]
  },
  {
   "cell_type": "code",
   "execution_count": 19,
   "id": "b0ed440f",
   "metadata": {},
   "outputs": [
    {
     "name": "stdout",
     "output_type": "stream",
     "text": [
      "No products need restocking.\n"
     ]
    }
   ],
   "source": [
    "# Automatically restock products below reorder level\n",
    "auto_restock()"
   ]
  },
  {
   "cell_type": "code",
   "execution_count": 20,
   "id": "eca7dd12",
   "metadata": {},
   "outputs": [
    {
     "name": "stdout",
     "output_type": "stream",
     "text": [
      "Product 'Monitor' added to inventory.\n"
     ]
    }
   ],
   "source": [
    "# Add a new product\n",
    "add_product('Monitor', 'Electronics', 20, 10, 15)"
   ]
  },
  {
   "cell_type": "code",
   "execution_count": 21,
   "id": "e8e0321d",
   "metadata": {},
   "outputs": [
    {
     "name": "stdout",
     "output_type": "stream",
     "text": [
      "Current Inventory:\n",
      "Product ID: 1, Name: Laptop, Stock: 30, Reorder Level: 10\n",
      "Product ID: 2, Name: Smartphone, Stock: 30, Reorder Level: 15\n",
      "Product ID: 3, Name: Headphones, Stock: 100, Reorder Level: 50\n",
      "Product ID: 4, Name: Chair, Stock: 8, Reorder Level: 5\n",
      "Product ID: 5, Name: Desk, Stock: 5, Reorder Level: 3\n",
      "Product ID: 6, Name: Monitor, Stock: 20, Reorder Level: 10\n"
     ]
    }
   ],
   "source": [
    "# Display updated inventory\n",
    "show_inventory()"
   ]
  },
  {
   "cell_type": "code",
   "execution_count": null,
   "id": "4428d6bb",
   "metadata": {},
   "outputs": [],
   "source": []
  }
 ],
 "metadata": {
  "kernelspec": {
   "display_name": "Python 3 (ipykernel)",
   "language": "python",
   "name": "python3"
  },
  "language_info": {
   "codemirror_mode": {
    "name": "ipython",
    "version": 3
   },
   "file_extension": ".py",
   "mimetype": "text/x-python",
   "name": "python",
   "nbconvert_exporter": "python",
   "pygments_lexer": "ipython3",
   "version": "3.11.5"
  }
 },
 "nbformat": 4,
 "nbformat_minor": 5
}
